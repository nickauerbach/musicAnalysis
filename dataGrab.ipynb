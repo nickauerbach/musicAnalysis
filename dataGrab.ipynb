{
 "cells": [
  {
   "cell_type": "code",
   "execution_count": null,
   "id": "8233df78",
   "metadata": {},
   "outputs": [],
   "source": [
    "#widen work flow\n",
    "from IPython.core.display import display, HTML\n",
    "display(HTML(\"<style>.container { width:95% !important; }</style>\"))"
   ]
  },
  {
   "cell_type": "code",
   "execution_count": null,
   "id": "6e006d3e",
   "metadata": {},
   "outputs": [],
   "source": [
    "#module imports\n",
    "import pandas as pd\n",
    "import numpy as np\n",
    "import librosa\n",
    "import os\n",
    "import eyed3\n",
    "from eyed3 import id3\n",
    "import random\n",
    "import scipy\n",
    "from scipy.fft import fft\n",
    "import pickle"
   ]
  },
  {
   "cell_type": "code",
   "execution_count": null,
   "id": "025f1751",
   "metadata": {},
   "outputs": [],
   "source": [
    "#create music library dataframe\n",
    "library = pd.DataFrame(columns = [\"Artist\", \"Album\", \"Track\", \"Sampling Rate\", \"Amplitudes\", \"Raw Frequencies\"])"
   ]
  },
  {
   "cell_type": "code",
   "execution_count": null,
   "id": "46ec7c11",
   "metadata": {},
   "outputs": [],
   "source": [
    "#tuneReader function reads in music files through librosa\n",
    "def tuneReader(file_path):\n",
    "    samples, sampling_rate = librosa.load(file_path, sr = 8000, mono = True, offset = 0.0, duration = None)\n",
    "    return samples, sampling_rate"
   ]
  },
  {
   "cell_type": "code",
   "execution_count": null,
   "id": "adc3086f",
   "metadata": {},
   "outputs": [],
   "source": [
    "#fftCalc runs fast fourier transform on each array of amplitudes\n",
    "def fftCalc(amps):\n",
    "    return np.fft.fft(amps)"
   ]
  },
  {
   "cell_type": "code",
   "execution_count": null,
   "id": "1f3a8787",
   "metadata": {},
   "outputs": [],
   "source": [
    "#nested for loops call tuneReader function and fftCalc while iterating through music directories\n",
    "#load results into music library dataframe\n",
    "trackID = 0\n",
    "directory = r'C:\\Users\\nicka\\Documents\\Projects\\Woody\\IndexedData'\n",
    "for artist in os.scandir(directory):\n",
    "    for album in os.scandir(artist.path):\n",
    "        for track in os.scandir(album.path):\n",
    "            if track.is_file() and trackID <= np.max(section) and trackID >= np.min(section):\n",
    "                amps, sr = tuneReader(track.path)\n",
    "                freqs = fftCalc(amps)\n",
    "                library.loc[len(library.index)] = [artist.name,album.name,track.name, sr, amps, freqs]\n",
    "            trackID+=1"
   ]
  },
  {
   "cell_type": "code",
   "execution_count": null,
   "id": "f2dd3ff8",
   "metadata": {},
   "outputs": [],
   "source": [
    "#absolute value of frequencies feature\n",
    "spectrum = np.abs(library[\"Raw Frequencies\"])\n",
    "library[\"Processed Frequencies\"] = spectrum"
   ]
  },
  {
   "cell_type": "code",
   "execution_count": null,
   "id": "eabea0ea",
   "metadata": {},
   "outputs": [],
   "source": [
    "#drop raw frequency column\n",
    "library.drop(\"Raw Frequencies\", axis=1, inplace=True)"
   ]
  },
  {
   "cell_type": "code",
   "execution_count": null,
   "id": "b07de03a",
   "metadata": {},
   "outputs": [],
   "source": [
    "#export dataframe to serialized pickle file\n",
    "with open(\"setList\", \"wb\") as f:\n",
    "    pickle.dump(library, f)"
   ]
  }
 ],
 "metadata": {
  "kernelspec": {
   "display_name": "Python 3",
   "language": "python",
   "name": "python3"
  },
  "language_info": {
   "codemirror_mode": {
    "name": "ipython",
    "version": 3
   },
   "file_extension": ".py",
   "mimetype": "text/x-python",
   "name": "python",
   "nbconvert_exporter": "python",
   "pygments_lexer": "ipython3",
   "version": "3.8.8"
  }
 },
 "nbformat": 4,
 "nbformat_minor": 5
}
