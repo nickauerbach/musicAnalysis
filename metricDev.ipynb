{
 "cells": [
  {
   "cell_type": "code",
   "execution_count": null,
   "id": "de506966",
   "metadata": {},
   "outputs": [],
   "source": [
    "#widen work flow\n",
    "from IPython.core.display import display, HTML\n",
    "display(HTML(\"<style>.container { width:95% !important; }</style>\"))"
   ]
  },
  {
   "cell_type": "code",
   "execution_count": null,
   "id": "afdea4f5",
   "metadata": {},
   "outputs": [],
   "source": [
    "#module imports\n",
    "import pandas as pd\n",
    "import numpy as np\n",
    "import librosa\n",
    "import os\n",
    "import eyed3\n",
    "from eyed3 import id3\n",
    "import random\n",
    "import scipy\n",
    "from scipy.fft import fft\n",
    "from statistics import mean\n",
    "from scipy.stats import entropy\n",
    "import pickle\n",
    "import sklearn\n",
    "from sklearn.preprocessing import StandardScaler\n",
    "from sklearn.decomposition import PCA\n",
    "from sklearn.utils.extmath import randomized_svd\n",
    "import seaborn as sns\n",
    "import matplotlib.pyplot as plt\n",
    "import EntropyHub as eh"
   ]
  },
  {
   "cell_type": "code",
   "execution_count": null,
   "id": "7b92396b",
   "metadata": {},
   "outputs": [],
   "source": [
    "#load working setList to continue feature engineering\n",
    "with open(\"setList\", \"rb\") as f:\n",
    "    library = pickle.load(f)"
   ]
  },
  {
   "cell_type": "code",
   "execution_count": null,
   "id": "aa069994",
   "metadata": {},
   "outputs": [],
   "source": [
    "#build matrix dataframe to generate short time fourier transform and spectrogram matrices\n",
    "matrixPCA = pd.DataFrame(columns = [\"Track\",\"STFT\",\"specMatrix\"])\n",
    "matrixPCA[\"Track\"] = library.iloc[:,2]\n",
    "matrixPCA[\"STFT\"] = [librosa.stft(x) for x in library[\"Amplitudes\"]]\n",
    "matrixPCA[\"specMatrix\"] = [librosa.amplitude_to_db(abs(x)) for x in matrixPCA[\"STFT\"]]"
   ]
  },
  {
   "cell_type": "code",
   "execution_count": null,
   "id": "4f86ff51",
   "metadata": {},
   "outputs": [],
   "source": [
    "#check shapes of spectrogram matrices\n",
    "print(matrixPCA.iloc[0,2].shape, matrixPCA.iloc[1,2].shape, matrixPCA.iloc[2,2].shape)"
   ]
  },
  {
   "cell_type": "code",
   "execution_count": null,
   "id": "0a53827f",
   "metadata": {},
   "outputs": [],
   "source": [
    "#define PCA function that receives track matrix and produces PCs, explained variance array for each principal component\n",
    "results = pd.DataFrame(columns = [\"25 Principal Components\",\"Explained Variance\", \"Explained Variance Ratios\"])\n",
    "def musicPCA(matrix):\n",
    "    standard = StandardScaler().fit_transform(matrix)\n",
    "    pca = PCA(n_components = 25, svd_solver ='randomized')\n",
    "    pca.fit_transform(standard)\n",
    "    results.loc[len(results.index)] = [pca.components_, pca.explained_variance_, pca.explained_variance_ratio_] "
   ]
  },
  {
   "cell_type": "code",
   "execution_count": null,
   "id": "5129c7bf",
   "metadata": {},
   "outputs": [],
   "source": [
    "#call musicPCA function for each matrix in matrixPCA df\n",
    "[musicPCA(x) for x in matrixPCA[\"specMatrix\"]];"
   ]
  },
  {
   "cell_type": "code",
   "execution_count": null,
   "id": "4b938525",
   "metadata": {},
   "outputs": [],
   "source": [
    "#update music library with new features\n",
    "library[\"25 Principal Components\"] = results[\"25 Principal Components\"]\n",
    "library[\"Explained Variance\"] = results[\"Explained Variance\"]\n",
    "library[\"Explained Variance Ratios\"] = results[\"Explained Variance Ratios\"]"
   ]
  },
  {
   "cell_type": "code",
   "execution_count": null,
   "id": "df4e12a2",
   "metadata": {},
   "outputs": [],
   "source": [
    "#sum of eigenvalues, explained variance ratios\n",
    "library[\"PCs EVR Sum\"] = [np.sum(x) for x in library[\"Explained Variance Ratios\"]]"
   ]
  },
  {
   "cell_type": "code",
   "execution_count": null,
   "id": "c0f73eda",
   "metadata": {},
   "outputs": [],
   "source": [
    "#implement Gibb's entropy formula by summing p log p of each sample total EVR\n",
    "library[\"Gibb's Entropy of 25 PCs\"] = [np.sum((-1)*x*np.log(x)) for x in library[\"Explained Variance Ratios\"]]"
   ]
  },
  {
   "cell_type": "code",
   "execution_count": null,
   "id": "bf1755e0",
   "metadata": {},
   "outputs": [],
   "source": [
    "#run EntropyHub metrics\n",
    "X = library[\"Amplitudes\"]\n",
    "#sample entropy\n",
    "Samp, Phi1, Phi2 = eh.SampEn(X, m = 4, tau = 0)\n",
    "library[\"EH Time Series Entropy\"] = Samp\n",
    "#kolmogorov entropy\n",
    "K2, Ci = K2En(X, m = 4, tau = 0, r = 0.2*np.std(Sig), Logx = np.exp(1))\n",
    "library[\"EH Kolmogorov Entropy\"] = K2\n",
    "#bidimensional fuzzy entropy\n",
    "library[\"EH Fuzzy2D Entropy\"] = [eh.FuzzEn2D(x, m = (7, 8), tau = 0, Fx = \"default\", r = (0.2,2), Logx = np.exp(1), Lock = False) for x in matrixPCA[\"specMa$\n",
    "matrixPCA.drop(columns = [\"specMatrix\"], inplace = True)"
   ]
  },
  {
   "cell_type": "code",
   "execution_count": null,
   "id": "532bda08",
   "metadata": {},
   "outputs": [],
   "source": [
    "#export final df dataframe to playlist pickle file\n",
    "with open('playlist', 'wb') as f:\n",
    "    pickle.dump(library, f)"
   ]
  }
 ],
 "metadata": {
  "kernelspec": {
   "display_name": "Python 3",
   "language": "python",
   "name": "python3"
  },
  "language_info": {
   "codemirror_mode": {
    "name": "ipython",
    "version": 3
   },
   "file_extension": ".py",
   "mimetype": "text/x-python",
   "name": "python",
   "nbconvert_exporter": "python",
   "pygments_lexer": "ipython3",
   "version": "3.8.8"
  }
 },
 "nbformat": 4,
 "nbformat_minor": 5
}
