{
 "cells": [
  {
   "cell_type": "code",
   "execution_count": null,
   "id": "c1b4ad40",
   "metadata": {},
   "outputs": [],
   "source": [
    "#widen work flow\n",
    "from IPython.core.display import display, HTML\n",
    "display(HTML(\"<style>.container { width:95% !important; }</style>\"))"
   ]
  },
  {
   "cell_type": "code",
   "execution_count": null,
   "id": "628d5948",
   "metadata": {},
   "outputs": [],
   "source": [
    "#module imports\n",
    "import pandas as pd\n",
    "import matplotlib.pyplot as plt\n",
    "import librosa\n",
    "from librosa import display\n",
    "import os\n",
    "import eyed3\n",
    "from eyed3 import id3\n",
    "import sklearn\n",
    "import random\n",
    "import scipy\n",
    "from scipy.fft import fft\n",
    "import numpy as np\n",
    "from statistics import mean\n",
    "from scipy.stats import entropy\n",
    "import pickle"
   ]
  },
  {
   "cell_type": "code",
   "execution_count": null,
   "id": "2723063f",
   "metadata": {},
   "outputs": [],
   "source": [
    "#load music library dataframe from pickle\n",
    "with open(\"setList\", \"rb\") as f:\n",
    "    library = pickle.load(f)"
   ]
  },
  {
   "cell_type": "code",
   "execution_count": null,
   "id": "37872ae0",
   "metadata": {},
   "outputs": [],
   "source": [
    "#create average amplitude feature from amplitude array\n",
    "amps = np.abs(library[\"Amplitudes\"])\n",
    "library[\"Average Amplitude\"] = [np.mean(x, dtype = np.float32) for x in amps]"
   ]
  },
  {
   "cell_type": "code",
   "execution_count": null,
   "id": "3137da6b",
   "metadata": {},
   "outputs": [],
   "source": [
    "#take average frequency of each track\n",
    "freqs = library[\"Processed Frequencies\"]\n",
    "avgFreqs = [np.mean(x, dtype = np.float64) for x in freqs]\n",
    "library[\"Average Frequency\"] = avgFreqs"
   ]
  },
  {
   "cell_type": "code",
   "execution_count": null,
   "id": "eb87ff88",
   "metadata": {},
   "outputs": [],
   "source": [
    "#calculate frequency variance\n",
    "library[\"Frequency Variance\"] = [np.var(x, dtype = np.float32) for x in freqs]"
   ]
  },
  {
   "cell_type": "code",
   "execution_count": null,
   "id": "05da6799",
   "metadata": {},
   "outputs": [],
   "source": [
    "#shannon entropy\n",
    "library[\"Shannon Entropy\"] = [entropy(pd.Series(x).value_counts(normalize = True)) for x in freqs]"
   ]
  },
  {
   "cell_type": "code",
   "execution_count": null,
   "id": "bea2049b",
   "metadata": {},
   "outputs": [],
   "source": [
    "#check to confirm lengths of each track's amps and freqs are equal\n",
    "[len(i) for i in library[\"Amplitudes\"]] == [len(i) for i in library[\"Processed Frequencies\"]]"
   ]
  },
  {
   "cell_type": "code",
   "execution_count": null,
   "id": "1296ac77",
   "metadata": {},
   "outputs": [],
   "source": [
    "#generate librosa metrics from samples\n",
    "library[\"Spectral Centroids\"] = [librosa.feature.spectral_centroid(x, 8000) for x in library[\"Amplitudes\"]]\n",
    "library[\"Spectral Rolloff\"] = [librosa.feature.spectral_rolloff(x+0.01, 8000) for x in library[\"Amplitudes\"]]\n",
    "library[\"MFCCs\"] = [librosa.feature.mfcc(x, 8000) for x in library[\"Amplitudes\"]]\n",
    "library[\"Chroma Features\"] = [librosa.feature.chroma_stft(x, 8000, hop_length = 512) for x in library[\"Amplitudes\"]]"
   ]
  },
  {
   "cell_type": "code",
   "execution_count": null,
   "id": "7e771ada",
   "metadata": {},
   "outputs": [],
   "source": [
    "#export library dataframe to serialized pickle file\n",
    "with open('setList', 'wb') as f:\n",
    "    pickle.dump(library, f)"
   ]
  }
 ],
 "metadata": {
  "kernelspec": {
   "display_name": "Python 3",
   "language": "python",
   "name": "python3"
  },
  "language_info": {
   "codemirror_mode": {
    "name": "ipython",
    "version": 3
   },
   "file_extension": ".py",
   "mimetype": "text/x-python",
   "name": "python",
   "nbconvert_exporter": "python",
   "pygments_lexer": "ipython3",
   "version": "3.8.8"
  }
 },
 "nbformat": 4,
 "nbformat_minor": 5
}
